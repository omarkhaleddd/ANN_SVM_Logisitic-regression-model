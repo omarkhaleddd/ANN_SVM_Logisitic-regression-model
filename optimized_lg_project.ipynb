{
  "cells": [
    {
      "cell_type": "code",
      "execution_count": 33,
      "metadata": {
        "id": "XIuetGV12bLz"
      },
      "outputs": [],
      "source": [
        "from sklearn.tree import DecisionTreeClassifier\n",
        "from sklearn.metrics import precision_score\n",
        "from sklearn.metrics import recall_score\n",
        "from sklearn.metrics import f1_score\n",
        "from sklearn.metrics import accuracy_score\n",
        "from sklearn.metrics import roc_curve, auc, roc_auc_score\n",
        "import matplotlib.pyplot as plt\n",
        "from sklearn.decomposition import PCA\n",
        "from sklearn.metrics import classification_report\n",
        "\n",
        "from numpy import argmax\n",
        "import numpy as np\n",
        "import pandas as pd\n",
        "import seaborn as sns\n",
        "from matplotlib import gridspec\n",
        "from tensorflow.keras.models import Sequential\n",
        "from tensorflow.keras.layers import Dense\n",
        "import tensorflow as tf"
      ]
    },
    {
      "cell_type": "code",
      "execution_count": 2,
      "metadata": {
        "id": "ykQMdqBL-Oew"
      },
      "outputs": [],
      "source": [
        "from google.colab import drive"
      ]
    },
    {
      "cell_type": "code",
      "execution_count": 3,
      "metadata": {
        "colab": {
          "base_uri": "https://localhost:8080/"
        },
        "id": "OQOF7aXi-P8_",
        "outputId": "584b98d7-8013-44a0-cf41-af47de4101fd"
      },
      "outputs": [
        {
          "name": "stdout",
          "output_type": "stream",
          "text": [
            "Mounted at /content/drive/\n"
          ]
        }
      ],
      "source": [
        "drive.mount('/content/drive/')"
      ]
    },
    {
      "cell_type": "code",
      "execution_count": 4,
      "metadata": {
        "id": "ojui2cax-RgO"
      },
      "outputs": [],
      "source": [
        "import os\n",
        "os.environ['KAGGLE_CONFIG_DIR'] = \"/content/drive/MyDrive/kaggle_jsons\""
      ]
    },
    {
      "cell_type": "code",
      "execution_count": 5,
      "metadata": {
        "colab": {
          "base_uri": "https://localhost:8080/"
        },
        "id": "f6JUKrrv-ZT2",
        "outputId": "459281a6-1d06-4d06-d472-5631226e36a2"
      },
      "outputs": [
        {
          "name": "stdout",
          "output_type": "stream",
          "text": [
            "/content/drive/MyDrive/kaggle_jsons\n"
          ]
        }
      ],
      "source": [
        "%cd /content/drive/MyDrive/kaggle_jsons"
      ]
    },
    {
      "cell_type": "code",
      "execution_count": 6,
      "metadata": {
        "colab": {
          "base_uri": "https://localhost:8080/"
        },
        "id": "9KfFrSry-ame",
        "outputId": "1fe4d0ce-ae25-4913-f7b0-06b989bd2eed"
      },
      "outputs": [
        {
          "name": "stdout",
          "output_type": "stream",
          "text": [
            "creditcard.csv\tkaggle.json\n"
          ]
        }
      ],
      "source": [
        "!ls"
      ]
    },
    {
      "cell_type": "code",
      "execution_count": 8,
      "metadata": {
        "id": "NbRE-SQy-mzv"
      },
      "outputs": [],
      "source": [
        "data = pd.read_csv(\"/content/drive/MyDrive/kaggle_jsons/creditcard.csv\")"
      ]
    },
    {
      "cell_type": "code",
      "execution_count": 10,
      "metadata": {
        "colab": {
          "base_uri": "https://localhost:8080/",
          "height": 300
        },
        "id": "OCyKb5KY-opG",
        "outputId": "281f434a-fec8-46bd-c8a0-58085c77745f"
      },
      "outputs": [
        {
          "data": {
            "text/html": [
              "\n",
              "  <div id=\"df-f79d42dc-fe4a-489e-b290-0f9895ec7bf2\">\n",
              "    <div class=\"colab-df-container\">\n",
              "      <div>\n",
              "<style scoped>\n",
              "    .dataframe tbody tr th:only-of-type {\n",
              "        vertical-align: middle;\n",
              "    }\n",
              "\n",
              "    .dataframe tbody tr th {\n",
              "        vertical-align: top;\n",
              "    }\n",
              "\n",
              "    .dataframe thead th {\n",
              "        text-align: right;\n",
              "    }\n",
              "</style>\n",
              "<table border=\"1\" class=\"dataframe\">\n",
              "  <thead>\n",
              "    <tr style=\"text-align: right;\">\n",
              "      <th></th>\n",
              "      <th>Time</th>\n",
              "      <th>V1</th>\n",
              "      <th>V2</th>\n",
              "      <th>V3</th>\n",
              "      <th>V4</th>\n",
              "      <th>V5</th>\n",
              "      <th>V6</th>\n",
              "      <th>V7</th>\n",
              "      <th>V8</th>\n",
              "      <th>V9</th>\n",
              "      <th>...</th>\n",
              "      <th>V21</th>\n",
              "      <th>V22</th>\n",
              "      <th>V23</th>\n",
              "      <th>V24</th>\n",
              "      <th>V25</th>\n",
              "      <th>V26</th>\n",
              "      <th>V27</th>\n",
              "      <th>V28</th>\n",
              "      <th>Amount</th>\n",
              "      <th>Class</th>\n",
              "    </tr>\n",
              "  </thead>\n",
              "  <tbody>\n",
              "    <tr>\n",
              "      <th>0</th>\n",
              "      <td>0.0</td>\n",
              "      <td>-1.359807</td>\n",
              "      <td>-0.072781</td>\n",
              "      <td>2.536347</td>\n",
              "      <td>1.378155</td>\n",
              "      <td>-0.338321</td>\n",
              "      <td>0.462388</td>\n",
              "      <td>0.239599</td>\n",
              "      <td>0.098698</td>\n",
              "      <td>0.363787</td>\n",
              "      <td>...</td>\n",
              "      <td>-0.018307</td>\n",
              "      <td>0.277838</td>\n",
              "      <td>-0.110474</td>\n",
              "      <td>0.066928</td>\n",
              "      <td>0.128539</td>\n",
              "      <td>-0.189115</td>\n",
              "      <td>0.133558</td>\n",
              "      <td>-0.021053</td>\n",
              "      <td>149.62</td>\n",
              "      <td>0</td>\n",
              "    </tr>\n",
              "    <tr>\n",
              "      <th>1</th>\n",
              "      <td>0.0</td>\n",
              "      <td>1.191857</td>\n",
              "      <td>0.266151</td>\n",
              "      <td>0.166480</td>\n",
              "      <td>0.448154</td>\n",
              "      <td>0.060018</td>\n",
              "      <td>-0.082361</td>\n",
              "      <td>-0.078803</td>\n",
              "      <td>0.085102</td>\n",
              "      <td>-0.255425</td>\n",
              "      <td>...</td>\n",
              "      <td>-0.225775</td>\n",
              "      <td>-0.638672</td>\n",
              "      <td>0.101288</td>\n",
              "      <td>-0.339846</td>\n",
              "      <td>0.167170</td>\n",
              "      <td>0.125895</td>\n",
              "      <td>-0.008983</td>\n",
              "      <td>0.014724</td>\n",
              "      <td>2.69</td>\n",
              "      <td>0</td>\n",
              "    </tr>\n",
              "    <tr>\n",
              "      <th>2</th>\n",
              "      <td>1.0</td>\n",
              "      <td>-1.358354</td>\n",
              "      <td>-1.340163</td>\n",
              "      <td>1.773209</td>\n",
              "      <td>0.379780</td>\n",
              "      <td>-0.503198</td>\n",
              "      <td>1.800499</td>\n",
              "      <td>0.791461</td>\n",
              "      <td>0.247676</td>\n",
              "      <td>-1.514654</td>\n",
              "      <td>...</td>\n",
              "      <td>0.247998</td>\n",
              "      <td>0.771679</td>\n",
              "      <td>0.909412</td>\n",
              "      <td>-0.689281</td>\n",
              "      <td>-0.327642</td>\n",
              "      <td>-0.139097</td>\n",
              "      <td>-0.055353</td>\n",
              "      <td>-0.059752</td>\n",
              "      <td>378.66</td>\n",
              "      <td>0</td>\n",
              "    </tr>\n",
              "    <tr>\n",
              "      <th>3</th>\n",
              "      <td>1.0</td>\n",
              "      <td>-0.966272</td>\n",
              "      <td>-0.185226</td>\n",
              "      <td>1.792993</td>\n",
              "      <td>-0.863291</td>\n",
              "      <td>-0.010309</td>\n",
              "      <td>1.247203</td>\n",
              "      <td>0.237609</td>\n",
              "      <td>0.377436</td>\n",
              "      <td>-1.387024</td>\n",
              "      <td>...</td>\n",
              "      <td>-0.108300</td>\n",
              "      <td>0.005274</td>\n",
              "      <td>-0.190321</td>\n",
              "      <td>-1.175575</td>\n",
              "      <td>0.647376</td>\n",
              "      <td>-0.221929</td>\n",
              "      <td>0.062723</td>\n",
              "      <td>0.061458</td>\n",
              "      <td>123.50</td>\n",
              "      <td>0</td>\n",
              "    </tr>\n",
              "    <tr>\n",
              "      <th>4</th>\n",
              "      <td>2.0</td>\n",
              "      <td>-1.158233</td>\n",
              "      <td>0.877737</td>\n",
              "      <td>1.548718</td>\n",
              "      <td>0.403034</td>\n",
              "      <td>-0.407193</td>\n",
              "      <td>0.095921</td>\n",
              "      <td>0.592941</td>\n",
              "      <td>-0.270533</td>\n",
              "      <td>0.817739</td>\n",
              "      <td>...</td>\n",
              "      <td>-0.009431</td>\n",
              "      <td>0.798278</td>\n",
              "      <td>-0.137458</td>\n",
              "      <td>0.141267</td>\n",
              "      <td>-0.206010</td>\n",
              "      <td>0.502292</td>\n",
              "      <td>0.219422</td>\n",
              "      <td>0.215153</td>\n",
              "      <td>69.99</td>\n",
              "      <td>0</td>\n",
              "    </tr>\n",
              "  </tbody>\n",
              "</table>\n",
              "<p>5 rows × 31 columns</p>\n",
              "</div>\n",
              "      <button class=\"colab-df-convert\" onclick=\"convertToInteractive('df-f79d42dc-fe4a-489e-b290-0f9895ec7bf2')\"\n",
              "              title=\"Convert this dataframe to an interactive table.\"\n",
              "              style=\"display:none;\">\n",
              "        \n",
              "  <svg xmlns=\"http://www.w3.org/2000/svg\" height=\"24px\"viewBox=\"0 0 24 24\"\n",
              "       width=\"24px\">\n",
              "    <path d=\"M0 0h24v24H0V0z\" fill=\"none\"/>\n",
              "    <path d=\"M18.56 5.44l.94 2.06.94-2.06 2.06-.94-2.06-.94-.94-2.06-.94 2.06-2.06.94zm-11 1L8.5 8.5l.94-2.06 2.06-.94-2.06-.94L8.5 2.5l-.94 2.06-2.06.94zm10 10l.94 2.06.94-2.06 2.06-.94-2.06-.94-.94-2.06-.94 2.06-2.06.94z\"/><path d=\"M17.41 7.96l-1.37-1.37c-.4-.4-.92-.59-1.43-.59-.52 0-1.04.2-1.43.59L10.3 9.45l-7.72 7.72c-.78.78-.78 2.05 0 2.83L4 21.41c.39.39.9.59 1.41.59.51 0 1.02-.2 1.41-.59l7.78-7.78 2.81-2.81c.8-.78.8-2.07 0-2.86zM5.41 20L4 18.59l7.72-7.72 1.47 1.35L5.41 20z\"/>\n",
              "  </svg>\n",
              "      </button>\n",
              "      \n",
              "  <style>\n",
              "    .colab-df-container {\n",
              "      display:flex;\n",
              "      flex-wrap:wrap;\n",
              "      gap: 12px;\n",
              "    }\n",
              "\n",
              "    .colab-df-convert {\n",
              "      background-color: #E8F0FE;\n",
              "      border: none;\n",
              "      border-radius: 50%;\n",
              "      cursor: pointer;\n",
              "      display: none;\n",
              "      fill: #1967D2;\n",
              "      height: 32px;\n",
              "      padding: 0 0 0 0;\n",
              "      width: 32px;\n",
              "    }\n",
              "\n",
              "    .colab-df-convert:hover {\n",
              "      background-color: #E2EBFA;\n",
              "      box-shadow: 0px 1px 2px rgba(60, 64, 67, 0.3), 0px 1px 3px 1px rgba(60, 64, 67, 0.15);\n",
              "      fill: #174EA6;\n",
              "    }\n",
              "\n",
              "    [theme=dark] .colab-df-convert {\n",
              "      background-color: #3B4455;\n",
              "      fill: #D2E3FC;\n",
              "    }\n",
              "\n",
              "    [theme=dark] .colab-df-convert:hover {\n",
              "      background-color: #434B5C;\n",
              "      box-shadow: 0px 1px 3px 1px rgba(0, 0, 0, 0.15);\n",
              "      filter: drop-shadow(0px 1px 2px rgba(0, 0, 0, 0.3));\n",
              "      fill: #FFFFFF;\n",
              "    }\n",
              "  </style>\n",
              "\n",
              "      <script>\n",
              "        const buttonEl =\n",
              "          document.querySelector('#df-f79d42dc-fe4a-489e-b290-0f9895ec7bf2 button.colab-df-convert');\n",
              "        buttonEl.style.display =\n",
              "          google.colab.kernel.accessAllowed ? 'block' : 'none';\n",
              "\n",
              "        async function convertToInteractive(key) {\n",
              "          const element = document.querySelector('#df-f79d42dc-fe4a-489e-b290-0f9895ec7bf2');\n",
              "          const dataTable =\n",
              "            await google.colab.kernel.invokeFunction('convertToInteractive',\n",
              "                                                     [key], {});\n",
              "          if (!dataTable) return;\n",
              "\n",
              "          const docLinkHtml = 'Like what you see? Visit the ' +\n",
              "            '<a target=\"_blank\" href=https://colab.research.google.com/notebooks/data_table.ipynb>data table notebook</a>'\n",
              "            + ' to learn more about interactive tables.';\n",
              "          element.innerHTML = '';\n",
              "          dataTable['output_type'] = 'display_data';\n",
              "          await google.colab.output.renderOutput(dataTable, element);\n",
              "          const docLink = document.createElement('div');\n",
              "          docLink.innerHTML = docLinkHtml;\n",
              "          element.appendChild(docLink);\n",
              "        }\n",
              "      </script>\n",
              "    </div>\n",
              "  </div>\n",
              "  "
            ],
            "text/plain": [
              "   Time        V1        V2        V3        V4        V5        V6        V7  \\\n",
              "0   0.0 -1.359807 -0.072781  2.536347  1.378155 -0.338321  0.462388  0.239599   \n",
              "1   0.0  1.191857  0.266151  0.166480  0.448154  0.060018 -0.082361 -0.078803   \n",
              "2   1.0 -1.358354 -1.340163  1.773209  0.379780 -0.503198  1.800499  0.791461   \n",
              "3   1.0 -0.966272 -0.185226  1.792993 -0.863291 -0.010309  1.247203  0.237609   \n",
              "4   2.0 -1.158233  0.877737  1.548718  0.403034 -0.407193  0.095921  0.592941   \n",
              "\n",
              "         V8        V9  ...       V21       V22       V23       V24       V25  \\\n",
              "0  0.098698  0.363787  ... -0.018307  0.277838 -0.110474  0.066928  0.128539   \n",
              "1  0.085102 -0.255425  ... -0.225775 -0.638672  0.101288 -0.339846  0.167170   \n",
              "2  0.247676 -1.514654  ...  0.247998  0.771679  0.909412 -0.689281 -0.327642   \n",
              "3  0.377436 -1.387024  ... -0.108300  0.005274 -0.190321 -1.175575  0.647376   \n",
              "4 -0.270533  0.817739  ... -0.009431  0.798278 -0.137458  0.141267 -0.206010   \n",
              "\n",
              "        V26       V27       V28  Amount  Class  \n",
              "0 -0.189115  0.133558 -0.021053  149.62      0  \n",
              "1  0.125895 -0.008983  0.014724    2.69      0  \n",
              "2 -0.139097 -0.055353 -0.059752  378.66      0  \n",
              "3 -0.221929  0.062723  0.061458  123.50      0  \n",
              "4  0.502292  0.219422  0.215153   69.99      0  \n",
              "\n",
              "[5 rows x 31 columns]"
            ]
          },
          "execution_count": 10,
          "metadata": {},
          "output_type": "execute_result"
        }
      ],
      "source": [
        "data.head()"
      ]
    },
    {
      "cell_type": "code",
      "execution_count": 11,
      "metadata": {
        "colab": {
          "base_uri": "https://localhost:8080/"
        },
        "id": "z9uIZhyK-x4f",
        "outputId": "f4ea8aea-adb8-4254-ecd7-8aeaf6c4fa7c"
      },
      "outputs": [
        {
          "name": "stdout",
          "output_type": "stream",
          "text": [
            "(284807, 31)\n",
            "                Time            V1            V2            V3            V4  \\\n",
            "count  284807.000000  2.848070e+05  2.848070e+05  2.848070e+05  2.848070e+05   \n",
            "mean    94813.859575  1.168375e-15  3.416908e-16 -1.379537e-15  2.074095e-15   \n",
            "std     47488.145955  1.958696e+00  1.651309e+00  1.516255e+00  1.415869e+00   \n",
            "min         0.000000 -5.640751e+01 -7.271573e+01 -4.832559e+01 -5.683171e+00   \n",
            "25%     54201.500000 -9.203734e-01 -5.985499e-01 -8.903648e-01 -8.486401e-01   \n",
            "50%     84692.000000  1.810880e-02  6.548556e-02  1.798463e-01 -1.984653e-02   \n",
            "75%    139320.500000  1.315642e+00  8.037239e-01  1.027196e+00  7.433413e-01   \n",
            "max    172792.000000  2.454930e+00  2.205773e+01  9.382558e+00  1.687534e+01   \n",
            "\n",
            "                 V5            V6            V7            V8            V9  \\\n",
            "count  2.848070e+05  2.848070e+05  2.848070e+05  2.848070e+05  2.848070e+05   \n",
            "mean   9.604066e-16  1.487313e-15 -5.556467e-16  1.213481e-16 -2.406331e-15   \n",
            "std    1.380247e+00  1.332271e+00  1.237094e+00  1.194353e+00  1.098632e+00   \n",
            "min   -1.137433e+02 -2.616051e+01 -4.355724e+01 -7.321672e+01 -1.343407e+01   \n",
            "25%   -6.915971e-01 -7.682956e-01 -5.540759e-01 -2.086297e-01 -6.430976e-01   \n",
            "50%   -5.433583e-02 -2.741871e-01  4.010308e-02  2.235804e-02 -5.142873e-02   \n",
            "75%    6.119264e-01  3.985649e-01  5.704361e-01  3.273459e-01  5.971390e-01   \n",
            "max    3.480167e+01  7.330163e+01  1.205895e+02  2.000721e+01  1.559499e+01   \n",
            "\n",
            "       ...           V21           V22           V23           V24  \\\n",
            "count  ...  2.848070e+05  2.848070e+05  2.848070e+05  2.848070e+05   \n",
            "mean   ...  1.654067e-16 -3.568593e-16  2.578648e-16  4.473266e-15   \n",
            "std    ...  7.345240e-01  7.257016e-01  6.244603e-01  6.056471e-01   \n",
            "min    ... -3.483038e+01 -1.093314e+01 -4.480774e+01 -2.836627e+00   \n",
            "25%    ... -2.283949e-01 -5.423504e-01 -1.618463e-01 -3.545861e-01   \n",
            "50%    ... -2.945017e-02  6.781943e-03 -1.119293e-02  4.097606e-02   \n",
            "75%    ...  1.863772e-01  5.285536e-01  1.476421e-01  4.395266e-01   \n",
            "max    ...  2.720284e+01  1.050309e+01  2.252841e+01  4.584549e+00   \n",
            "\n",
            "                V25           V26           V27           V28         Amount  \\\n",
            "count  2.848070e+05  2.848070e+05  2.848070e+05  2.848070e+05  284807.000000   \n",
            "mean   5.340915e-16  1.683437e-15 -3.660091e-16 -1.227390e-16      88.349619   \n",
            "std    5.212781e-01  4.822270e-01  4.036325e-01  3.300833e-01     250.120109   \n",
            "min   -1.029540e+01 -2.604551e+00 -2.256568e+01 -1.543008e+01       0.000000   \n",
            "25%   -3.171451e-01 -3.269839e-01 -7.083953e-02 -5.295979e-02       5.600000   \n",
            "50%    1.659350e-02 -5.213911e-02  1.342146e-03  1.124383e-02      22.000000   \n",
            "75%    3.507156e-01  2.409522e-01  9.104512e-02  7.827995e-02      77.165000   \n",
            "max    7.519589e+00  3.517346e+00  3.161220e+01  3.384781e+01   25691.160000   \n",
            "\n",
            "               Class  \n",
            "count  284807.000000  \n",
            "mean        0.001727  \n",
            "std         0.041527  \n",
            "min         0.000000  \n",
            "25%         0.000000  \n",
            "50%         0.000000  \n",
            "75%         0.000000  \n",
            "max         1.000000  \n",
            "\n",
            "[8 rows x 31 columns]\n"
          ]
        }
      ],
      "source": [
        "#printing the shape of the data \n",
        "print(data.shape)\n",
        "print(data.describe())"
      ]
    },
    {
      "cell_type": "code",
      "execution_count": 14,
      "metadata": {
        "colab": {
          "base_uri": "https://localhost:8080/"
        },
        "id": "3hMAe-zkAB4W",
        "outputId": "3af45dfb-e06f-45f2-8300-df8bb911a860"
      },
      "outputs": [
        {
          "data": {
            "text/plain": [
              "Time      0\n",
              "V1        0\n",
              "V2        0\n",
              "V3        0\n",
              "V4        0\n",
              "V5        0\n",
              "V6        0\n",
              "V7        0\n",
              "V8        0\n",
              "V9        0\n",
              "V10       0\n",
              "V11       0\n",
              "V12       0\n",
              "V13       0\n",
              "V14       0\n",
              "V15       0\n",
              "V16       0\n",
              "V17       0\n",
              "V18       0\n",
              "V19       0\n",
              "V20       0\n",
              "V21       0\n",
              "V22       0\n",
              "V23       0\n",
              "V24       0\n",
              "V25       0\n",
              "V26       0\n",
              "V27       0\n",
              "V28       0\n",
              "Amount    0\n",
              "Class     0\n",
              "dtype: int64"
            ]
          },
          "execution_count": 14,
          "metadata": {},
          "output_type": "execute_result"
        }
      ],
      "source": [
        "data.isnull().sum() "
      ]
    },
    {
      "cell_type": "code",
      "execution_count": null,
      "metadata": {
        "id": "XbWeoFRPAEpm"
      },
      "outputs": [],
      "source": []
    },
    {
      "cell_type": "code",
      "execution_count": 12,
      "metadata": {
        "colab": {
          "base_uri": "https://localhost:8080/"
        },
        "id": "Yrfh4pHm-9Wf",
        "outputId": "954622e5-b9bd-4a14-bdb9-d040052b852e"
      },
      "outputs": [
        {
          "name": "stdout",
          "output_type": "stream",
          "text": [
            "(284807, 30)\n",
            "(284807,)\n"
          ]
        }
      ],
      "source": [
        "\n",
        "# dividing the X and the Y from the dataset\n",
        "X = data.drop(['Class'], axis = 1)\n",
        "Y = data[\"Class\"]\n",
        "print(X.shape)\n",
        "print(Y.shape)\n",
        "# getting just the values for the sake of processing \n",
        "# (its a numpy array with no columns)\n",
        "xData = X.values\n",
        "yData = Y.values"
      ]
    },
    {
      "cell_type": "code",
      "execution_count": 16,
      "metadata": {
        "colab": {
          "base_uri": "https://localhost:8080/"
        },
        "id": "tUHXoFnM_Fun",
        "outputId": "ceb0cf20-46ce-4e77-963a-3b82525fd959"
      },
      "outputs": [
        {
          "data": {
            "text/plain": [
              "(568630, 30)"
            ]
          },
          "execution_count": 16,
          "metadata": {},
          "output_type": "execute_result"
        }
      ],
      "source": [
        "#the data set is unblanced so we use a preprocessing technique called over smapling to balance the dataset \n",
        "from imblearn.over_sampling import SMOTE \n",
        "xData, yData = SMOTE().fit_resample(xData, yData)\n",
        "xData.shape"
      ]
    },
    {
      "cell_type": "code",
      "execution_count": 17,
      "metadata": {
        "colab": {
          "base_uri": "https://localhost:8080/"
        },
        "id": "PAdIOJrwBONP",
        "outputId": "33cd40a6-7f9f-461a-fdd0-e8951db0c083"
      },
      "outputs": [
        {
          "data": {
            "text/plain": [
              "StandardScaler()"
            ]
          },
          "execution_count": 17,
          "metadata": {},
          "output_type": "execute_result"
        }
      ],
      "source": [
        "# our features are floats and a sclaing should help us about that.\n",
        "from sklearn.preprocessing import StandardScaler\n",
        "\n",
        "# Create a scaler object\n",
        "scaler = StandardScaler()\n",
        "\n",
        "# Fit the scaler to the training data\n",
        "scaler.fit(xData)"
      ]
    },
    {
      "cell_type": "code",
      "execution_count": 18,
      "metadata": {
        "id": "TpyYAPgsBTq-"
      },
      "outputs": [],
      "source": [
        "xData = scaler.transform(xData)"
      ]
    },
    {
      "cell_type": "code",
      "execution_count": 19,
      "metadata": {
        "colab": {
          "base_uri": "https://localhost:8080/"
        },
        "id": "xL3nLbpyBY3Y",
        "outputId": "54abab45-09b5-488f-f34c-37fcd0951acc"
      },
      "outputs": [
        {
          "data": {
            "text/plain": [
              "(568630, 30)"
            ]
          },
          "execution_count": 19,
          "metadata": {},
          "output_type": "execute_result"
        }
      ],
      "source": [
        "xData.shape\n"
      ]
    },
    {
      "cell_type": "code",
      "execution_count": 20,
      "metadata": {
        "colab": {
          "base_uri": "https://localhost:8080/",
          "height": 300
        },
        "id": "h_xInnYyBpKm",
        "outputId": "28cc591a-4330-4284-b7a8-0e64ce60ed1b"
      },
      "outputs": [
        {
          "data": {
            "text/html": [
              "\n",
              "  <div id=\"df-d2134528-9d22-4c01-9e65-5f7adcdc5baf\">\n",
              "    <div class=\"colab-df-container\">\n",
              "      <div>\n",
              "<style scoped>\n",
              "    .dataframe tbody tr th:only-of-type {\n",
              "        vertical-align: middle;\n",
              "    }\n",
              "\n",
              "    .dataframe tbody tr th {\n",
              "        vertical-align: top;\n",
              "    }\n",
              "\n",
              "    .dataframe thead th {\n",
              "        text-align: right;\n",
              "    }\n",
              "</style>\n",
              "<table border=\"1\" class=\"dataframe\">\n",
              "  <thead>\n",
              "    <tr style=\"text-align: right;\">\n",
              "      <th></th>\n",
              "      <th>0</th>\n",
              "      <th>1</th>\n",
              "      <th>2</th>\n",
              "      <th>3</th>\n",
              "      <th>4</th>\n",
              "      <th>5</th>\n",
              "      <th>6</th>\n",
              "      <th>7</th>\n",
              "      <th>8</th>\n",
              "      <th>9</th>\n",
              "      <th>...</th>\n",
              "      <th>20</th>\n",
              "      <th>21</th>\n",
              "      <th>22</th>\n",
              "      <th>23</th>\n",
              "      <th>24</th>\n",
              "      <th>25</th>\n",
              "      <th>26</th>\n",
              "      <th>27</th>\n",
              "      <th>28</th>\n",
              "      <th>29</th>\n",
              "    </tr>\n",
              "  </thead>\n",
              "  <tbody>\n",
              "    <tr>\n",
              "      <th>0</th>\n",
              "      <td>-1.824366</td>\n",
              "      <td>0.205045</td>\n",
              "      <td>-0.547350</td>\n",
              "      <td>1.004999</td>\n",
              "      <td>-0.302006</td>\n",
              "      <td>0.312675</td>\n",
              "      <td>0.693087</td>\n",
              "      <td>0.555880</td>\n",
              "      <td>-0.038686</td>\n",
              "      <td>0.762732</td>\n",
              "      <td>...</td>\n",
              "      <td>0.064959</td>\n",
              "      <td>-0.147836</td>\n",
              "      <td>0.248341</td>\n",
              "      <td>-0.103391</td>\n",
              "      <td>0.226289</td>\n",
              "      <td>0.164731</td>\n",
              "      <td>-0.486070</td>\n",
              "      <td>0.052564</td>\n",
              "      <td>-0.150367</td>\n",
              "      <td>0.242607</td>\n",
              "    </tr>\n",
              "    <tr>\n",
              "      <th>1</th>\n",
              "      <td>-1.824366</td>\n",
              "      <td>0.673077</td>\n",
              "      <td>-0.453986</td>\n",
              "      <td>0.620027</td>\n",
              "      <td>-0.598111</td>\n",
              "      <td>0.409006</td>\n",
              "      <td>0.373495</td>\n",
              "      <td>0.499922</td>\n",
              "      <td>-0.041443</td>\n",
              "      <td>0.483927</td>\n",
              "      <td>...</td>\n",
              "      <td>-0.247053</td>\n",
              "      <td>-0.221262</td>\n",
              "      <td>-0.542676</td>\n",
              "      <td>0.106535</td>\n",
              "      <td>-0.526228</td>\n",
              "      <td>0.227707</td>\n",
              "      <td>0.217596</td>\n",
              "      <td>-0.097513</td>\n",
              "      <td>-0.064837</td>\n",
              "      <td>-0.422379</td>\n",
              "    </tr>\n",
              "    <tr>\n",
              "      <th>2</th>\n",
              "      <td>-1.824345</td>\n",
              "      <td>0.205312</td>\n",
              "      <td>-0.896470</td>\n",
              "      <td>0.881031</td>\n",
              "      <td>-0.619881</td>\n",
              "      <td>0.272802</td>\n",
              "      <td>1.478126</td>\n",
              "      <td>0.652868</td>\n",
              "      <td>-0.008473</td>\n",
              "      <td>-0.083052</td>\n",
              "      <td>...</td>\n",
              "      <td>0.331285</td>\n",
              "      <td>-0.053587</td>\n",
              "      <td>0.674564</td>\n",
              "      <td>0.907653</td>\n",
              "      <td>-1.172667</td>\n",
              "      <td>-0.578931</td>\n",
              "      <td>-0.374339</td>\n",
              "      <td>-0.146335</td>\n",
              "      <td>-0.242881</td>\n",
              "      <td>1.279211</td>\n",
              "    </tr>\n",
              "    <tr>\n",
              "      <th>3</th>\n",
              "      <td>-1.824345</td>\n",
              "      <td>0.277228</td>\n",
              "      <td>-0.578325</td>\n",
              "      <td>0.884245</td>\n",
              "      <td>-1.015664</td>\n",
              "      <td>0.391999</td>\n",
              "      <td>1.153520</td>\n",
              "      <td>0.555530</td>\n",
              "      <td>0.017843</td>\n",
              "      <td>-0.025585</td>\n",
              "      <td>...</td>\n",
              "      <td>-0.382330</td>\n",
              "      <td>-0.179686</td>\n",
              "      <td>0.013098</td>\n",
              "      <td>-0.182546</td>\n",
              "      <td>-2.072293</td>\n",
              "      <td>1.010533</td>\n",
              "      <td>-0.559369</td>\n",
              "      <td>-0.022016</td>\n",
              "      <td>0.046885</td>\n",
              "      <td>0.124391</td>\n",
              "    </tr>\n",
              "    <tr>\n",
              "      <th>4</th>\n",
              "      <td>-1.824325</td>\n",
              "      <td>0.242018</td>\n",
              "      <td>-0.285515</td>\n",
              "      <td>0.844564</td>\n",
              "      <td>-0.612477</td>\n",
              "      <td>0.296019</td>\n",
              "      <td>0.478089</td>\n",
              "      <td>0.617979</td>\n",
              "      <td>-0.113567</td>\n",
              "      <td>0.967128</td>\n",
              "      <td>...</td>\n",
              "      <td>0.217930</td>\n",
              "      <td>-0.144695</td>\n",
              "      <td>0.697521</td>\n",
              "      <td>-0.130142</td>\n",
              "      <td>0.363813</td>\n",
              "      <td>-0.380647</td>\n",
              "      <td>1.058391</td>\n",
              "      <td>0.142968</td>\n",
              "      <td>0.414314</td>\n",
              "      <td>-0.117788</td>\n",
              "    </tr>\n",
              "  </tbody>\n",
              "</table>\n",
              "<p>5 rows × 30 columns</p>\n",
              "</div>\n",
              "      <button class=\"colab-df-convert\" onclick=\"convertToInteractive('df-d2134528-9d22-4c01-9e65-5f7adcdc5baf')\"\n",
              "              title=\"Convert this dataframe to an interactive table.\"\n",
              "              style=\"display:none;\">\n",
              "        \n",
              "  <svg xmlns=\"http://www.w3.org/2000/svg\" height=\"24px\"viewBox=\"0 0 24 24\"\n",
              "       width=\"24px\">\n",
              "    <path d=\"M0 0h24v24H0V0z\" fill=\"none\"/>\n",
              "    <path d=\"M18.56 5.44l.94 2.06.94-2.06 2.06-.94-2.06-.94-.94-2.06-.94 2.06-2.06.94zm-11 1L8.5 8.5l.94-2.06 2.06-.94-2.06-.94L8.5 2.5l-.94 2.06-2.06.94zm10 10l.94 2.06.94-2.06 2.06-.94-2.06-.94-.94-2.06-.94 2.06-2.06.94z\"/><path d=\"M17.41 7.96l-1.37-1.37c-.4-.4-.92-.59-1.43-.59-.52 0-1.04.2-1.43.59L10.3 9.45l-7.72 7.72c-.78.78-.78 2.05 0 2.83L4 21.41c.39.39.9.59 1.41.59.51 0 1.02-.2 1.41-.59l7.78-7.78 2.81-2.81c.8-.78.8-2.07 0-2.86zM5.41 20L4 18.59l7.72-7.72 1.47 1.35L5.41 20z\"/>\n",
              "  </svg>\n",
              "      </button>\n",
              "      \n",
              "  <style>\n",
              "    .colab-df-container {\n",
              "      display:flex;\n",
              "      flex-wrap:wrap;\n",
              "      gap: 12px;\n",
              "    }\n",
              "\n",
              "    .colab-df-convert {\n",
              "      background-color: #E8F0FE;\n",
              "      border: none;\n",
              "      border-radius: 50%;\n",
              "      cursor: pointer;\n",
              "      display: none;\n",
              "      fill: #1967D2;\n",
              "      height: 32px;\n",
              "      padding: 0 0 0 0;\n",
              "      width: 32px;\n",
              "    }\n",
              "\n",
              "    .colab-df-convert:hover {\n",
              "      background-color: #E2EBFA;\n",
              "      box-shadow: 0px 1px 2px rgba(60, 64, 67, 0.3), 0px 1px 3px 1px rgba(60, 64, 67, 0.15);\n",
              "      fill: #174EA6;\n",
              "    }\n",
              "\n",
              "    [theme=dark] .colab-df-convert {\n",
              "      background-color: #3B4455;\n",
              "      fill: #D2E3FC;\n",
              "    }\n",
              "\n",
              "    [theme=dark] .colab-df-convert:hover {\n",
              "      background-color: #434B5C;\n",
              "      box-shadow: 0px 1px 3px 1px rgba(0, 0, 0, 0.15);\n",
              "      filter: drop-shadow(0px 1px 2px rgba(0, 0, 0, 0.3));\n",
              "      fill: #FFFFFF;\n",
              "    }\n",
              "  </style>\n",
              "\n",
              "      <script>\n",
              "        const buttonEl =\n",
              "          document.querySelector('#df-d2134528-9d22-4c01-9e65-5f7adcdc5baf button.colab-df-convert');\n",
              "        buttonEl.style.display =\n",
              "          google.colab.kernel.accessAllowed ? 'block' : 'none';\n",
              "\n",
              "        async function convertToInteractive(key) {\n",
              "          const element = document.querySelector('#df-d2134528-9d22-4c01-9e65-5f7adcdc5baf');\n",
              "          const dataTable =\n",
              "            await google.colab.kernel.invokeFunction('convertToInteractive',\n",
              "                                                     [key], {});\n",
              "          if (!dataTable) return;\n",
              "\n",
              "          const docLinkHtml = 'Like what you see? Visit the ' +\n",
              "            '<a target=\"_blank\" href=https://colab.research.google.com/notebooks/data_table.ipynb>data table notebook</a>'\n",
              "            + ' to learn more about interactive tables.';\n",
              "          element.innerHTML = '';\n",
              "          dataTable['output_type'] = 'display_data';\n",
              "          await google.colab.output.renderOutput(dataTable, element);\n",
              "          const docLink = document.createElement('div');\n",
              "          docLink.innerHTML = docLinkHtml;\n",
              "          element.appendChild(docLink);\n",
              "        }\n",
              "      </script>\n",
              "    </div>\n",
              "  </div>\n",
              "  "
            ],
            "text/plain": [
              "         0         1         2         3         4         5         6   \\\n",
              "0 -1.824366  0.205045 -0.547350  1.004999 -0.302006  0.312675  0.693087   \n",
              "1 -1.824366  0.673077 -0.453986  0.620027 -0.598111  0.409006  0.373495   \n",
              "2 -1.824345  0.205312 -0.896470  0.881031 -0.619881  0.272802  1.478126   \n",
              "3 -1.824345  0.277228 -0.578325  0.884245 -1.015664  0.391999  1.153520   \n",
              "4 -1.824325  0.242018 -0.285515  0.844564 -0.612477  0.296019  0.478089   \n",
              "\n",
              "         7         8         9   ...        20        21        22        23  \\\n",
              "0  0.555880 -0.038686  0.762732  ...  0.064959 -0.147836  0.248341 -0.103391   \n",
              "1  0.499922 -0.041443  0.483927  ... -0.247053 -0.221262 -0.542676  0.106535   \n",
              "2  0.652868 -0.008473 -0.083052  ...  0.331285 -0.053587  0.674564  0.907653   \n",
              "3  0.555530  0.017843 -0.025585  ... -0.382330 -0.179686  0.013098 -0.182546   \n",
              "4  0.617979 -0.113567  0.967128  ...  0.217930 -0.144695  0.697521 -0.130142   \n",
              "\n",
              "         24        25        26        27        28        29  \n",
              "0  0.226289  0.164731 -0.486070  0.052564 -0.150367  0.242607  \n",
              "1 -0.526228  0.227707  0.217596 -0.097513 -0.064837 -0.422379  \n",
              "2 -1.172667 -0.578931 -0.374339 -0.146335 -0.242881  1.279211  \n",
              "3 -2.072293  1.010533 -0.559369 -0.022016  0.046885  0.124391  \n",
              "4  0.363813 -0.380647  1.058391  0.142968  0.414314 -0.117788  \n",
              "\n",
              "[5 rows x 30 columns]"
            ]
          },
          "execution_count": 20,
          "metadata": {},
          "output_type": "execute_result"
        }
      ],
      "source": [
        "pd.DataFrame(xData).head()"
      ]
    },
    {
      "cell_type": "code",
      "execution_count": 21,
      "metadata": {
        "id": "gnJrJqZvB1kY"
      },
      "outputs": [],
      "source": [
        "#shuffling the data for randomization \n",
        "from sklearn.utils import shuffle\n",
        "xData, yData = shuffle(xData, yData)"
      ]
    },
    {
      "cell_type": "code",
      "execution_count": 22,
      "metadata": {
        "id": "8bTJmhieButn"
      },
      "outputs": [],
      "source": [
        "\n",
        "# Using Scikit-learn to split data into training and testing sets\n",
        "from sklearn.model_selection import train_test_split\n",
        "# Split the data into training and testing sets\n",
        "xTrain, xTest, yTrain, yTest = train_test_split(\n",
        "        xData, yData, test_size = 0.2, random_state = 42)\n"
      ]
    },
    {
      "cell_type": "code",
      "execution_count": 41,
      "metadata": {
        "colab": {
          "base_uri": "https://localhost:8080/"
        },
        "id": "OTx7ONITCezv",
        "outputId": "a79adf00-dde7-46a5-aac0-eb7a7ea0ad63"
      },
      "outputs": [
        {
          "name": "stdout",
          "output_type": "stream",
          "text": [
            "Epoch 1/100\n",
            "14216/14216 [==============================] - 29s 2ms/step - loss: 0.1139 - accuracy: 0.9578 - val_loss: 0.0840 - val_accuracy: 0.9695\n",
            "Epoch 2/100\n",
            "14216/14216 [==============================] - 30s 2ms/step - loss: 0.0791 - accuracy: 0.9716 - val_loss: 0.0781 - val_accuracy: 0.9718\n",
            "Epoch 3/100\n",
            "14216/14216 [==============================] - 30s 2ms/step - loss: 0.0751 - accuracy: 0.9733 - val_loss: 0.0750 - val_accuracy: 0.9738\n",
            "Epoch 4/100\n",
            "14216/14216 [==============================] - 30s 2ms/step - loss: 0.0729 - accuracy: 0.9743 - val_loss: 0.0729 - val_accuracy: 0.9743\n",
            "Epoch 5/100\n",
            "14216/14216 [==============================] - 31s 2ms/step - loss: 0.0713 - accuracy: 0.9751 - val_loss: 0.0715 - val_accuracy: 0.9749\n",
            "Epoch 6/100\n",
            "14216/14216 [==============================] - 30s 2ms/step - loss: 0.0702 - accuracy: 0.9756 - val_loss: 0.0705 - val_accuracy: 0.9755\n",
            "Epoch 7/100\n",
            "14216/14216 [==============================] - 28s 2ms/step - loss: 0.0694 - accuracy: 0.9761 - val_loss: 0.0695 - val_accuracy: 0.9762\n",
            "Epoch 8/100\n",
            "14216/14216 [==============================] - 28s 2ms/step - loss: 0.0687 - accuracy: 0.9765 - val_loss: 0.0693 - val_accuracy: 0.9760\n",
            "Epoch 9/100\n",
            "14216/14216 [==============================] - 27s 2ms/step - loss: 0.0682 - accuracy: 0.9768 - val_loss: 0.0682 - val_accuracy: 0.9759\n",
            "Epoch 10/100\n",
            "14216/14216 [==============================] - 31s 2ms/step - loss: 0.0677 - accuracy: 0.9771 - val_loss: 0.0677 - val_accuracy: 0.9763\n",
            "Epoch 11/100\n",
            "14216/14216 [==============================] - 29s 2ms/step - loss: 0.0673 - accuracy: 0.9772 - val_loss: 0.0677 - val_accuracy: 0.9770\n",
            "Epoch 12/100\n",
            "14216/14216 [==============================] - 29s 2ms/step - loss: 0.0671 - accuracy: 0.9773 - val_loss: 0.0668 - val_accuracy: 0.9770\n",
            "Epoch 13/100\n",
            "14216/14216 [==============================] - 29s 2ms/step - loss: 0.0667 - accuracy: 0.9776 - val_loss: 0.0665 - val_accuracy: 0.9772\n",
            "Epoch 14/100\n",
            "14216/14216 [==============================] - 28s 2ms/step - loss: 0.0665 - accuracy: 0.9777 - val_loss: 0.0660 - val_accuracy: 0.9772\n",
            "Epoch 15/100\n",
            "14216/14216 [==============================] - 27s 2ms/step - loss: 0.0663 - accuracy: 0.9780 - val_loss: 0.0657 - val_accuracy: 0.9773\n",
            "Epoch 16/100\n",
            "14216/14216 [==============================] - 29s 2ms/step - loss: 0.0660 - accuracy: 0.9781 - val_loss: 0.0654 - val_accuracy: 0.9774\n",
            "Epoch 17/100\n",
            "14216/14216 [==============================] - 28s 2ms/step - loss: 0.0658 - accuracy: 0.9781 - val_loss: 0.0656 - val_accuracy: 0.9775\n",
            "Epoch 18/100\n",
            "14216/14216 [==============================] - 31s 2ms/step - loss: 0.0657 - accuracy: 0.9783 - val_loss: 0.0652 - val_accuracy: 0.9777\n",
            "Epoch 19/100\n",
            "14216/14216 [==============================] - 29s 2ms/step - loss: 0.0656 - accuracy: 0.9784 - val_loss: 0.0648 - val_accuracy: 0.9781\n",
            "Epoch 20/100\n",
            "14216/14216 [==============================] - 29s 2ms/step - loss: 0.0653 - accuracy: 0.9785 - val_loss: 0.0653 - val_accuracy: 0.9778\n",
            "Epoch 21/100\n",
            "14216/14216 [==============================] - 29s 2ms/step - loss: 0.0653 - accuracy: 0.9785 - val_loss: 0.0647 - val_accuracy: 0.9779\n",
            "Epoch 22/100\n",
            "14216/14216 [==============================] - 30s 2ms/step - loss: 0.0652 - accuracy: 0.9786 - val_loss: 0.0644 - val_accuracy: 0.9780\n",
            "Epoch 23/100\n",
            "14216/14216 [==============================] - 28s 2ms/step - loss: 0.0651 - accuracy: 0.9787 - val_loss: 0.0644 - val_accuracy: 0.9784\n",
            "Epoch 24/100\n",
            "14216/14216 [==============================] - 28s 2ms/step - loss: 0.0650 - accuracy: 0.9787 - val_loss: 0.0640 - val_accuracy: 0.9780\n",
            "Epoch 25/100\n",
            "14216/14216 [==============================] - 32s 2ms/step - loss: 0.0648 - accuracy: 0.9788 - val_loss: 0.0640 - val_accuracy: 0.9782\n",
            "Epoch 26/100\n",
            "14216/14216 [==============================] - 29s 2ms/step - loss: 0.0648 - accuracy: 0.9788 - val_loss: 0.0640 - val_accuracy: 0.9780\n",
            "Epoch 27/100\n",
            "14216/14216 [==============================] - 29s 2ms/step - loss: 0.0649 - accuracy: 0.9789 - val_loss: 0.0633 - val_accuracy: 0.9784\n",
            "Epoch 28/100\n",
            "14216/14216 [==============================] - 31s 2ms/step - loss: 0.0646 - accuracy: 0.9790 - val_loss: 0.0638 - val_accuracy: 0.9788\n",
            "Epoch 29/100\n",
            "14216/14216 [==============================] - 30s 2ms/step - loss: 0.0647 - accuracy: 0.9791 - val_loss: 0.0642 - val_accuracy: 0.9785\n",
            "Epoch 30/100\n",
            "14216/14216 [==============================] - 29s 2ms/step - loss: 0.0646 - accuracy: 0.9791 - val_loss: 0.0637 - val_accuracy: 0.9787\n",
            "Epoch 31/100\n",
            "14216/14216 [==============================] - 32s 2ms/step - loss: 0.0646 - accuracy: 0.9791 - val_loss: 0.0637 - val_accuracy: 0.9789\n",
            "Epoch 32/100\n",
            "14216/14216 [==============================] - 30s 2ms/step - loss: 0.0646 - accuracy: 0.9792 - val_loss: 0.0636 - val_accuracy: 0.9784\n",
            "Epoch 33/100\n",
            "14216/14216 [==============================] - 30s 2ms/step - loss: 0.0645 - accuracy: 0.9792 - val_loss: 0.0635 - val_accuracy: 0.9787\n",
            "Epoch 34/100\n",
            "14216/14216 [==============================] - 30s 2ms/step - loss: 0.0645 - accuracy: 0.9793 - val_loss: 0.0634 - val_accuracy: 0.9784\n",
            "Epoch 35/100\n",
            "14216/14216 [==============================] - 29s 2ms/step - loss: 0.0644 - accuracy: 0.9793 - val_loss: 0.0631 - val_accuracy: 0.9784\n",
            "Epoch 36/100\n",
            "14216/14216 [==============================] - 28s 2ms/step - loss: 0.0645 - accuracy: 0.9794 - val_loss: 0.0631 - val_accuracy: 0.9789\n",
            "Epoch 37/100\n",
            "14216/14216 [==============================] - 29s 2ms/step - loss: 0.0645 - accuracy: 0.9794 - val_loss: 0.0630 - val_accuracy: 0.9791\n",
            "Epoch 38/100\n",
            "14216/14216 [==============================] - 30s 2ms/step - loss: 0.0644 - accuracy: 0.9794 - val_loss: 0.0630 - val_accuracy: 0.9791\n",
            "Epoch 39/100\n",
            "14216/14216 [==============================] - 29s 2ms/step - loss: 0.0644 - accuracy: 0.9794 - val_loss: 0.0629 - val_accuracy: 0.9788\n",
            "Epoch 40/100\n",
            "14216/14216 [==============================] - 28s 2ms/step - loss: 0.0644 - accuracy: 0.9795 - val_loss: 0.0625 - val_accuracy: 0.9792\n"
          ]
        }
      ],
      "source": [
        "#model architecture \n",
        "model = Sequential()\n",
        "model.add(Dense(1, input_dim = 30, activation='sigmoid'))\n",
        "model.compile(loss='binary_crossentropy', optimizer='rmsprop', metrics=['accuracy'])\n",
        "callback = tf.keras.callbacks.EarlyStopping(monitor='loss', patience=5, restore_best_weights=True,)\n",
        "\n",
        "history= model.fit(\n",
        "      xTrain,\n",
        "      yTrain,\n",
        "      epochs=100,\n",
        "      shuffle=True,\n",
        "      validation_data=(xTest, yTest),verbose=1,\n",
        "      callbacks=[callback]\n",
        "    )\n"
      ]
    },
    {
      "cell_type": "code",
      "execution_count": 42,
      "metadata": {
        "colab": {
          "base_uri": "https://localhost:8080/"
        },
        "id": "Lh9RgV_DRHOR",
        "outputId": "5cdc2098-2bff-4f06-989c-00d3eaca423f"
      },
      "outputs": [
        {
          "name": "stdout",
          "output_type": "stream",
          "text": [
            "3554/3554 [==============================] - 4s 1ms/step\n"
          ]
        },
        {
          "data": {
            "text/plain": [
              "array([[1.        ],\n",
              "       [0.00400488],\n",
              "       [0.11459436],\n",
              "       ...,\n",
              "       [1.        ],\n",
              "       [1.        ],\n",
              "       [1.        ]], dtype=float32)"
            ]
          },
          "execution_count": 42,
          "metadata": {},
          "output_type": "execute_result"
        }
      ],
      "source": [
        "yPred = model.predict(xTest)\n",
        "yPred"
      ]
    },
    {
      "cell_type": "code",
      "execution_count": 44,
      "metadata": {
        "colab": {
          "base_uri": "https://localhost:8080/"
        },
        "id": "enW9e-1dRMe6",
        "outputId": "d782c428-9f3d-42aa-9e65-567b8356442e"
      },
      "outputs": [
        {
          "name": "stdout",
          "output_type": "stream",
          "text": [
            "[0.01871654]\n",
            "0\n",
            "__________________\n",
            "[1.]\n",
            "1\n"
          ]
        }
      ],
      "source": [
        "print(yPred[100])\n",
        "print(yTest[100])\n",
        "print(\"__________________\")\n",
        "print(yPred[0])\n",
        "print(yTest[0])\n"
      ]
    },
    {
      "cell_type": "code",
      "execution_count": 45,
      "metadata": {
        "colab": {
          "base_uri": "https://localhost:8080/"
        },
        "id": "rb90YfAiRySa",
        "outputId": "cbf528f2-8ece-4071-a7e0-51d3892cfea4"
      },
      "outputs": [
        {
          "name": "stdout",
          "output_type": "stream",
          "text": [
            "56718 57008\n"
          ]
        }
      ],
      "source": [
        "#selection a threshold \n",
        "\n",
        "c1 = 0\n",
        "c2 = 0\n",
        "for i in range(0, len(yPred)):\n",
        "  if yTest[i] == 1:\n",
        "    c1+=1\n",
        "  elif yTest[i] == 0:\n",
        "    c2+=1\n",
        "\n",
        "print(f'{c1} {c2}')\n"
      ]
    },
    {
      "cell_type": "code",
      "execution_count": 46,
      "metadata": {
        "colab": {
          "base_uri": "https://localhost:8080/"
        },
        "id": "fZWhrkfWR6xa",
        "outputId": "73edddaa-83f2-44f1-f10f-3b467c91a54f"
      },
      "outputs": [
        {
          "name": "stdout",
          "output_type": "stream",
          "text": [
            "55364 58362\n"
          ]
        }
      ],
      "source": [
        "#selection a threshold \n",
        "cnt1 = 0\n",
        "cnt2 = 0\n",
        "for i in range(0, len(yPred)):\n",
        "  if yPred[i] >= 0.5:\n",
        "    cnt1+=1\n",
        "  else:\n",
        "    cnt2+=1\n",
        "\n",
        "print(f'{cnt1} {cnt2}')\n"
      ]
    },
    {
      "cell_type": "code",
      "execution_count": 47,
      "metadata": {
        "id": "m5AGcWiQSEUL"
      },
      "outputs": [],
      "source": [
        "\n",
        "for i in range(0, len(yPred)):\n",
        "  if yPred[i] >= 0.5:\n",
        "    yPred[i] = 1\n",
        "  else:\n",
        "    yPred[i] = 0\n"
      ]
    },
    {
      "cell_type": "code",
      "execution_count": 49,
      "metadata": {
        "colab": {
          "base_uri": "https://localhost:8080/"
        },
        "id": "vTXtgmF5SHOg",
        "outputId": "dc0ce1d6-990b-4202-f4bd-367d6d844061"
      },
      "outputs": [
        {
          "name": "stdout",
          "output_type": "stream",
          "text": [
            "3554/3554 [==============================] - 4s 1ms/step\n"
          ]
        }
      ],
      "source": [
        "#Roc curve \n",
        "#prediction probablitlies true positives , false positives \n",
        "\n",
        "\n",
        "#values of the worst case scenario \n",
        "r_probs = [0 for _ in range(len(yTest))]\n",
        "\n",
        "#contains the values of predictions using the logestic regression model \n",
        "lg_probs = model.predict(xTest)"
      ]
    },
    {
      "cell_type": "code",
      "execution_count": 50,
      "metadata": {
        "colab": {
          "base_uri": "https://localhost:8080/"
        },
        "id": "C3jPwxzISNzB",
        "outputId": "39402b71-43a1-48c3-ffb1-3b5d126bd3fc"
      },
      "outputs": [
        {
          "name": "stdout",
          "output_type": "stream",
          "text": [
            "0\n"
          ]
        }
      ],
      "source": [
        "#keeping the positive probabilities \n",
        "flag = 0\n",
        "for item in lg_probs:\n",
        "  if item < 0:\n",
        "    flag = 1\n",
        "print(flag) "
      ]
    },
    {
      "cell_type": "code",
      "execution_count": 51,
      "metadata": {
        "id": "wYlsbfzUSROL"
      },
      "outputs": [],
      "source": [
        "from sklearn.metrics import roc_curve, roc_auc_score"
      ]
    },
    {
      "cell_type": "code",
      "execution_count": 52,
      "metadata": {
        "id": "qSBr9-PlSS6p"
      },
      "outputs": [],
      "source": [
        "#calculating auroc curve\n",
        "r_auc = roc_auc_score(yTest, r_probs)\n",
        "lg_auc = roc_auc_score(yTest,lg_probs) "
      ]
    },
    {
      "cell_type": "code",
      "execution_count": 53,
      "metadata": {
        "colab": {
          "base_uri": "https://localhost:8080/"
        },
        "id": "lWInVTeTSU6K",
        "outputId": "d95c755e-1d36-41ef-9d27-e8868d20c607"
      },
      "outputs": [
        {
          "name": "stdout",
          "output_type": "stream",
          "text": [
            "Logesic regression AUROC =  0.997\n",
            "Logesic regression AUROC =  0.500\n"
          ]
        }
      ],
      "source": [
        "print('Logesic regression AUROC =  %.3f' % (lg_auc))\n",
        "print('Logesic regression AUROC =  %.3f' % (r_auc))"
      ]
    },
    {
      "cell_type": "code",
      "execution_count": 54,
      "metadata": {
        "id": "TfcVoFt9SWLq"
      },
      "outputs": [],
      "source": [
        "#calculate ROC curve \n",
        "#false positive array, true positive array \n",
        "r_fpr, r_tpr, _ = roc_curve(yTest, r_probs)\n",
        "lg_fpr, lg_tpr, _ = roc_curve(yTest, lg_probs)\n"
      ]
    },
    {
      "cell_type": "code",
      "execution_count": 55,
      "metadata": {
        "id": "W2178AHGSYcy"
      },
      "outputs": [],
      "source": [
        "#Plotting the curve \n",
        "import matplotlib.pyplot as plt\n"
      ]
    },
    {
      "cell_type": "code",
      "execution_count": 56,
      "metadata": {
        "colab": {
          "base_uri": "https://localhost:8080/",
          "height": 295
        },
        "id": "HiSj94XdSZ-0",
        "outputId": "3b4b835e-0ad4-4a5b-c045-8eb8accf562b"
      },
      "outputs": [
        {
          "data": {
            "image/png": "[encoded data removed]",
            "text/plain": [
              "<Figure size 432x288 with 1 Axes>"
            ]
          },
          "metadata": {
            "needs_background": "light"
          },
          "output_type": "display_data"
        }
      ],
      "source": [
        "plt.plot(r_fpr, r_tpr, linestyle='--', label='Random predicion (AUROC = %0.3f) ' % r_auc)\n",
        "plt.plot(lg_fpr, lg_tpr, marker='.', label='Logesic regression predicion (AUROC = %0.3f) ' % lg_auc)\n",
        "#title \n",
        "plt.title('ROC Plot')\n",
        "\n",
        "plt.xlabel('False Positive Rate')\n",
        "plt.ylabel('True Positive Rage')\n",
        "plt.legend()\n",
        "plt.show()\n"
      ]
    },
    {
      "cell_type": "code",
      "execution_count": 57,
      "metadata": {
        "colab": {
          "base_uri": "https://localhost:8080/"
        },
        "id": "RWw091wbSc8q",
        "outputId": "89a7c3bc-d0c9-4d3a-edb1-7a6a81c09f0f"
      },
      "outputs": [
        {
          "data": {
            "text/plain": [
              "array([[56459,   549],\n",
              "       [ 1903, 54815]])"
            ]
          },
          "execution_count": 57,
          "metadata": {},
          "output_type": "execute_result"
        }
      ],
      "source": [
        "#confustion matrix \n",
        "from sklearn.metrics import confusion_matrix\n",
        "confusion_matrix(yTest, yPred)\n"
      ]
    },
    {
      "cell_type": "code",
      "execution_count": 61,
      "metadata": {
        "colab": {
          "base_uri": "https://localhost:8080/",
          "height": 295
        },
        "id": "5tTpOZcJSewr",
        "outputId": "8f6b2617-d111-4b3e-ef30-da5b37d60000"
      },
      "outputs": [
        {
          "data": {
            "image/png": "[encoded data removed]",
            "text/plain": [
              "<Figure size 432x288 with 1 Axes>"
            ]
          },
          "metadata": {
            "needs_background": "light"
          },
          "output_type": "display_data"
        }
      ],
      "source": [
        "#plotting accuracy \n",
        "# history في الموديل الجاهز مفهاش هيستوري \n",
        "\n",
        "plt.plot(history.history['accuracy'])\n",
        "plt.title('Accuracy')\n",
        "plt.xlabel('epoch')\n",
        "plt.ylabel('accuracy')\n",
        "plt.legend(['train'], loc='upper left')\n",
        "plt.show()"
      ]
    },
    {
      "cell_type": "code",
      "execution_count": 62,
      "metadata": {
        "colab": {
          "base_uri": "https://localhost:8080/",
          "height": 295
        },
        "id": "VTAKpBR4SjmS",
        "outputId": "efc6a8b4-56ef-4d26-ac51-71dbf5739988"
      },
      "outputs": [
        {
          "data": {
            "image/png": "[encoded data removed]",
            "text/plain": [
              "<Figure size 432x288 with 1 Axes>"
            ]
          },
          "metadata": {
            "needs_background": "light"
          },
          "output_type": "display_data"
        }
      ],
      "source": [
        "#plotting accuracy \n",
        "# history في الموديل الجاهز مفهاش هيستوري \n",
        "\n",
        "plt.plot(history.history['loss'])\n",
        "plt.title('Loss')\n",
        "plt.xlabel('epoch')\n",
        "plt.ylabel('loss')\n",
        "plt.legend(['train'], loc='upper left')\n",
        "plt.show()"
      ]
    }
  ],
  "metadata": {
    "colab": {
      "provenance": []
    },
    "kernelspec": {
      "display_name": "Python 3.10.8 64-bit (microsoft store)",
      "language": "python",
      "name": "python3"
    },
    "language_info": {
      "name": "python",
      "version": "3.10.8"
    },
    "vscode": {
      "interpreter": {
        "hash": "7b1f2b33e866b0bf2409397e5f58ba9cdf170d3b7f64c8f359c79998e2f88ad4"
      }
    }
  },
  "nbformat": 4,
  "nbformat_minor": 0
}
