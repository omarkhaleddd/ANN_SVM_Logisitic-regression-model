{
  "cells": [
    {
      "cell_type": "code",
      "execution_count": null,
      "metadata": {
        "id": "PZ5HSsdH2J4O"
      },
      "outputs": [],
      "source": [
        "from sklearn.tree import DecisionTreeClassifier\n",
        "from sklearn.metrics import precision_score\n",
        "from sklearn.metrics import recall_score\n",
        "from sklearn.metrics import f1_score\n",
        "from sklearn.metrics import accuracy_score\n",
        "from sklearn.metrics import roc_curve, auc, roc_auc_score\n",
        "import matplotlib.pyplot as plt\n",
        "from sklearn.decomposition import PCA\n",
        "from sklearn.metrics import classification_report\n",
        "\n",
        "from numpy import argmax\n",
        "import numpy as np\n",
        "import pandas as pd\n",
        "import seaborn as sns\n",
        "from matplotlib import gridspec\n",
        "from tensorflow.keras.models import Sequential\n",
        "from tensorflow.keras.layers import Dense\n",
        "import tensorflow as tf\n"
      ]
    },
    {
      "cell_type": "code",
      "execution_count": null,
      "metadata": {
        "colab": {
          "base_uri": "https://localhost:8080/"
        },
        "id": "2-QDeSgh3DKX",
        "outputId": "1771d718-4b08-4186-e592-46d8f2d6b585"
      },
      "outputs": [
        {
          "output_type": "stream",
          "name": "stdout",
          "text": [
            "Mounted at /content/drive/\n",
            "/content/drive/MyDrive/kaggle_jsons\n"
          ]
        }
      ],
      "source": [
        "from google.colab import drive\n",
        "drive.mount('/content/drive/')\n",
        "import os\n",
        "os.environ['KAGGLE_CONFIG_DIR'] = \"/content/drive/MyDrive/kaggle_jsons\"\n",
        "%cd /content/drive/MyDrive/kaggle_jsons"
      ]
    },
    {
      "cell_type": "code",
      "execution_count": null,
      "metadata": {
        "id": "EY2Z07A23LUe"
      },
      "outputs": [],
      "source": [
        "data = pd.read_csv(\"/content/drive/MyDrive/kaggle_jsons/creditcard.csv\")"
      ]
    },
    {
      "cell_type": "markdown",
      "metadata": {
        "id": "Zx0Iyzd43oXO"
      },
      "source": [
        "We'll use the same preprocessing from the Logistic Regression\n",
        " model\n",
        "\n",
        "---\n",
        "\n"
      ]
    },
    {
      "cell_type": "code",
      "execution_count": null,
      "metadata": {
        "id": "qF54EyH93-zV"
      },
      "outputs": [],
      "source": [
        "# dividing the X and the Y from the dataset\n",
        "X = data.drop(['Class'], axis = 1)\n",
        "Y = data[\"Class\"]\n",
        "print(X.shape)\n",
        "print(Y.shape)\n",
        "# getting just the values for the sake of processing \n",
        "# (its a numpy array with no columns)\n",
        "xData = X.values\n",
        "yData = Y.values"
      ]
    },
    {
      "cell_type": "code",
      "source": [
        "#the data set is unblanced so we use a preprocessing technique called under sampling to balance the dataset \n",
        "from imblearn.under_sampling import RandomUnderSampler\n",
        "from collections import Counter\n",
        "rus = RandomUnderSampler(random_state=42, replacement=True)# fit predictor and target variable\n",
        "xData, yData = rus.fit_resample(xData, yData)\n",
        "\n",
        "print('original dataset shape:', Counter(yData))\n",
        "print('Resample dataset shape', Counter(yData))"
      ],
      "metadata": {
        "colab": {
          "base_uri": "https://localhost:8080/"
        },
        "id": "9LznFVW3qRjz",
        "outputId": "645135e8-d989-4717-a807-4851f9b334b2"
      },
      "execution_count": null,
      "outputs": [
        {
          "output_type": "stream",
          "name": "stdout",
          "text": [
            "original dataset shape: Counter({0: 492, 1: 492})\n",
            "Resample dataset shape Counter({0: 492, 1: 492})\n"
          ]
        }
      ]
    },
    {
      "cell_type": "code",
      "execution_count": null,
      "metadata": {
        "colab": {
          "base_uri": "https://localhost:8080/"
        },
        "id": "b6LXu16YLYAq",
        "outputId": "25f479c3-aba4-4aed-df30-485268527fab"
      },
      "outputs": [
        {
          "output_type": "execute_result",
          "data": {
            "text/plain": [
              "StandardScaler()"
            ]
          },
          "metadata": {},
          "execution_count": 9
        }
      ],
      "source": [
        "# our features are floats and a sclaing should help us about that.\n",
        "from sklearn.preprocessing import StandardScaler\n",
        "\n",
        "# Create a scaler object\n",
        "scaler = StandardScaler()\n",
        "\n",
        "# Fit the scaler to the training data\n",
        "scaler.fit(xData)"
      ]
    },
    {
      "cell_type": "code",
      "execution_count": null,
      "metadata": {
        "id": "O3EVvujO4M5n"
      },
      "outputs": [],
      "source": [
        "xData = scaler.transform(xData)"
      ]
    },
    {
      "cell_type": "code",
      "execution_count": null,
      "metadata": {
        "id": "-mGvWLYi4RxW"
      },
      "outputs": [],
      "source": [
        "#shuffling the data for randomization \n",
        "from sklearn.utils import shuffle\n",
        "xData, yData = shuffle(xData, yData)"
      ]
    },
    {
      "cell_type": "code",
      "execution_count": null,
      "metadata": {
        "id": "0n-JVC764T8W"
      },
      "outputs": [],
      "source": [
        "# Using Scikit-learn to split data into training and testing sets\n",
        "from sklearn.model_selection import train_test_split\n",
        "# Split the data into training and testing sets\n",
        "xTrain, xTest, yTrain, yTest = train_test_split(\n",
        "        xData, yData, test_size = 0.2, random_state = 42)\n"
      ]
    },
    {
      "cell_type": "code",
      "execution_count": null,
      "metadata": {
        "colab": {
          "base_uri": "https://localhost:8080/"
        },
        "id": "EBU_3Bv2AZzp",
        "outputId": "3c0d2d6a-525d-419d-e3fb-2c7f1e359425"
      },
      "outputs": [
        {
          "output_type": "execute_result",
          "data": {
            "text/plain": [
              "(787, 30)"
            ]
          },
          "metadata": {},
          "execution_count": 13
        }
      ],
      "source": [
        "xTrain.shape\n"
      ]
    },
    {
      "cell_type": "code",
      "execution_count": null,
      "metadata": {
        "colab": {
          "base_uri": "https://localhost:8080/"
        },
        "id": "jmD4BLILJxAC",
        "outputId": "8de12849-3987-48a9-abc4-8dc10e814c78"
      },
      "outputs": [
        {
          "output_type": "execute_result",
          "data": {
            "text/plain": [
              "SVC(C=0.1, gamma=1, kernel='linear')"
            ]
          },
          "metadata": {},
          "execution_count": 14
        }
      ],
      "source": [
        "from sklearn.svm import SVC\n",
        " \n",
        "# Building a Support Vector Machine on train data\n",
        "svc_model  = SVC(C= .1, kernel='linear', gamma= 1)\n",
        "svc_model.fit(xTrain, yTrain)\n"
      ]
    },
    {
      "cell_type": "code",
      "execution_count": null,
      "metadata": {
        "colab": {
          "base_uri": "https://localhost:8080/"
        },
        "id": "MQ8358qeKBSI",
        "outputId": "22ea50ca-5822-4a3e-d3c0-e5c06e6b0861"
      },
      "outputs": [
        {
          "output_type": "stream",
          "name": "stdout",
          "text": [
            "0.9428208386277002\n",
            "0.9289340101522843\n"
          ]
        }
      ],
      "source": [
        "prediction = svc_model .predict(xTest)\n",
        "# check the accuracy on the training set\n",
        "print(svc_model.score(xTrain, yTrain))\n",
        "print(svc_model.score(xTest, yTest))\n",
        "  "
      ]
    },
    {
      "cell_type": "code",
      "execution_count": null,
      "metadata": {
        "colab": {
          "base_uri": "https://localhost:8080/"
        },
        "id": "frvQ-NE2NEgE",
        "outputId": "f27e2349-b97d-437b-9b58-afeffc18d1b9"
      },
      "outputs": [
        {
          "output_type": "stream",
          "name": "stdout",
          "text": [
            "The model used is Logestic regression classifier\n",
            "The accuracy is 0.9289340101522843\n",
            "The precision is 1.0\n",
            "The recall is 0.8585858585858586\n",
            "The F1-Score is 0.9239130434782609\n",
            "The Matthews correlation coefficient is0.8667540748462774\n"
          ]
        }
      ],
      "source": [
        "from sklearn.metrics import classification_report, accuracy_score \n",
        "from sklearn.metrics import precision_score, recall_score\n",
        "from sklearn.metrics import f1_score, matthews_corrcoef\n",
        "from sklearn.metrics import confusion_matrix\n",
        "n_errors = (prediction != yTest).sum()\n",
        "print(\"The model used is Logestic regression classifier\")\n",
        "  \n",
        "acc = accuracy_score(yTest, prediction)\n",
        "print(\"The accuracy is {}\".format(acc))\n",
        "  \n",
        "prec = precision_score(yTest, prediction)\n",
        "print(\"The precision is {}\".format(prec))\n",
        "  \n",
        "rec = recall_score(yTest, prediction)\n",
        "print(\"The recall is {}\".format(rec))\n",
        "  \n",
        "f1 = f1_score(yTest, prediction)\n",
        "print(\"The F1-Score is {}\".format(f1))\n",
        "  \n",
        "MCC = matthews_corrcoef(yTest, prediction)\n",
        "print(\"The Matthews correlation coefficient is{}\".format(MCC))"
      ]
    },
    {
      "cell_type": "code",
      "execution_count": null,
      "metadata": {
        "id": "x89xJhoRNREa"
      },
      "outputs": [],
      "source": [
        "#Roc curve \n",
        "#prediction probablitlies true positives , false positives \n",
        "\n",
        "\n",
        "#values of the worst case scenario \n",
        "r_probs = [0 for _ in range(len(yTest))]\n",
        "\n",
        "#contains the values of predictions using the logestic regression model \n",
        "sv_probs = svc_model.predict(xTest)"
      ]
    },
    {
      "cell_type": "code",
      "execution_count": null,
      "metadata": {
        "id": "zKVHvs0iNrHT"
      },
      "outputs": [],
      "source": [
        "#calculating auroc curve\n",
        "r_auc = roc_auc_score(yTest, r_probs)\n",
        "sv_auc = roc_auc_score(yTest,sv_probs) "
      ]
    },
    {
      "cell_type": "code",
      "execution_count": null,
      "metadata": {
        "colab": {
          "base_uri": "https://localhost:8080/"
        },
        "id": "1MXyv8lpOugK",
        "outputId": "76febdb3-c349-4c70-f3d9-9423531f36ba"
      },
      "outputs": [
        {
          "output_type": "stream",
          "name": "stdout",
          "text": [
            "svm AUROC =  0.929\n",
            "worst case  AUROC =  0.500\n"
          ]
        }
      ],
      "source": [
        "print('svm AUROC =  %.3f' % (sv_auc))\n",
        "print('worst case  AUROC =  %.3f' % (r_auc))"
      ]
    },
    {
      "cell_type": "code",
      "execution_count": null,
      "metadata": {
        "id": "PhMUIdMAOz2R"
      },
      "outputs": [],
      "source": [
        "#calculate ROC curve \n",
        "#false positive array, true positive array \n",
        "r_fpr, r_tpr, _ = roc_curve(yTest, r_probs)\n",
        "sv_fpr, sv_tpr, _ = roc_curve(yTest, sv_probs)\n"
      ]
    },
    {
      "cell_type": "code",
      "execution_count": null,
      "metadata": {
        "colab": {
          "base_uri": "https://localhost:8080/",
          "height": 295
        },
        "id": "9dcECjbSO3YJ",
        "outputId": "2153cfe9-be59-483f-a39b-4c4ae9b655ba"
      },
      "outputs": [
        {
          "output_type": "display_data",
          "data": {
            "text/plain": [
              "<Figure size 432x288 with 1 Axes>"
            ],
            "image/png": "[encoded data removed]"
          },
          "metadata": {
            "needs_background": "light"
          }
        }
      ],
      "source": [
        "plt.plot(r_fpr, r_tpr, linestyle='--', label='Random predicion (AUROC = %0.3f) ' % r_auc)\n",
        "plt.plot(sv_fpr, sv_tpr, marker='.', label='SVM  predicion (AUROC = %0.3f) ' % sv_auc)\n",
        "#title \n",
        "plt.title('ROC Plot')\n",
        "\n",
        "plt.xlabel('False Positive Rate')\n",
        "plt.ylabel('True Positive Rage')\n",
        "plt.legend()\n",
        "plt.show()\n"
      ]
    },
    {
      "cell_type": "code",
      "execution_count": null,
      "metadata": {
        "colab": {
          "base_uri": "https://localhost:8080/"
        },
        "id": "vFuPNAzTPF1Z",
        "outputId": "10b9bea1-16ad-49af-c2bc-a26f761f59a2"
      },
      "outputs": [
        {
          "output_type": "execute_result",
          "data": {
            "text/plain": [
              "array([[98,  0],\n",
              "       [14, 85]])"
            ]
          },
          "metadata": {},
          "execution_count": 22
        }
      ],
      "source": [
        "confusion_matrix(yTest, prediction)"
      ]
    }
  ],
  "metadata": {
    "colab": {
      "provenance": []
    },
    "kernelspec": {
      "display_name": "Python 3",
      "name": "python3"
    },
    "language_info": {
      "name": "python"
    }
  },
  "nbformat": 4,
  "nbformat_minor": 0
}